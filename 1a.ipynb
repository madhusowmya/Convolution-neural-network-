{
 "cells": [
  {
   "cell_type": "code",
   "execution_count": 19,
   "metadata": {},
   "outputs": [],
   "source": [
    "import numpy as np \n",
    "import pandas as pd\n",
    "import tensorflow as tf\n",
    "tf.config.experimental_run_functions_eagerly(True)\n",
    "import matplotlib.pyplot as plt\n",
    "%matplotlib inline\n",
    "import seaborn as sns"
   ]
  },
  {
   "cell_type": "code",
   "execution_count": 2,
   "metadata": {},
   "outputs": [
    {
     "name": "stdout",
     "output_type": "stream",
     "text": [
      "       label  pixel0  pixel1  pixel2  pixel3  pixel4  pixel5  pixel6  pixel7  \\\n",
      "0          1       0       0       0       0       0       0       0       0   \n",
      "1          0       0       0       0       0       0       0       0       0   \n",
      "2          1       0       0       0       0       0       0       0       0   \n",
      "3          4       0       0       0       0       0       0       0       0   \n",
      "4          0       0       0       0       0       0       0       0       0   \n",
      "...      ...     ...     ...     ...     ...     ...     ...     ...     ...   \n",
      "41995      0       0       0       0       0       0       0       0       0   \n",
      "41996      1       0       0       0       0       0       0       0       0   \n",
      "41997      7       0       0       0       0       0       0       0       0   \n",
      "41998      6       0       0       0       0       0       0       0       0   \n",
      "41999      9       0       0       0       0       0       0       0       0   \n",
      "\n",
      "       pixel8  ...  pixel774  pixel775  pixel776  pixel777  pixel778  \\\n",
      "0           0  ...         0         0         0         0         0   \n",
      "1           0  ...         0         0         0         0         0   \n",
      "2           0  ...         0         0         0         0         0   \n",
      "3           0  ...         0         0         0         0         0   \n",
      "4           0  ...         0         0         0         0         0   \n",
      "...       ...  ...       ...       ...       ...       ...       ...   \n",
      "41995       0  ...         0         0         0         0         0   \n",
      "41996       0  ...         0         0         0         0         0   \n",
      "41997       0  ...         0         0         0         0         0   \n",
      "41998       0  ...         0         0         0         0         0   \n",
      "41999       0  ...         0         0         0         0         0   \n",
      "\n",
      "       pixel779  pixel780  pixel781  pixel782  pixel783  \n",
      "0             0         0         0         0         0  \n",
      "1             0         0         0         0         0  \n",
      "2             0         0         0         0         0  \n",
      "3             0         0         0         0         0  \n",
      "4             0         0         0         0         0  \n",
      "...         ...       ...       ...       ...       ...  \n",
      "41995         0         0         0         0         0  \n",
      "41996         0         0         0         0         0  \n",
      "41997         0         0         0         0         0  \n",
      "41998         0         0         0         0         0  \n",
      "41999         0         0         0         0         0  \n",
      "\n",
      "[42000 rows x 785 columns]\n"
     ]
    }
   ],
   "source": [
    "train = pd.read_csv('Trainn_cnn.csv')\n",
    "test = pd.read_csv('Testt_cnn.csv')\n",
    "print(train)"
   ]
  },
  {
   "cell_type": "code",
   "execution_count": 3,
   "metadata": {},
   "outputs": [
    {
     "name": "stdout",
     "output_type": "stream",
     "text": [
      "       pixel0  pixel1  pixel2  pixel3  pixel4  pixel5  pixel6  pixel7  pixel8  \\\n",
      "0           0       0       0       0       0       0       0       0       0   \n",
      "1           0       0       0       0       0       0       0       0       0   \n",
      "2           0       0       0       0       0       0       0       0       0   \n",
      "3           0       0       0       0       0       0       0       0       0   \n",
      "4           0       0       0       0       0       0       0       0       0   \n",
      "...       ...     ...     ...     ...     ...     ...     ...     ...     ...   \n",
      "27995       0       0       0       0       0       0       0       0       0   \n",
      "27996       0       0       0       0       0       0       0       0       0   \n",
      "27997       0       0       0       0       0       0       0       0       0   \n",
      "27998       0       0       0       0       0       0       0       0       0   \n",
      "27999       0       0       0       0       0       0       0       0       0   \n",
      "\n",
      "       pixel9  ...  pixel774  pixel775  pixel776  pixel777  pixel778  \\\n",
      "0           0  ...         0         0         0         0         0   \n",
      "1           0  ...         0         0         0         0         0   \n",
      "2           0  ...         0         0         0         0         0   \n",
      "3           0  ...         0         0         0         0         0   \n",
      "4           0  ...         0         0         0         0         0   \n",
      "...       ...  ...       ...       ...       ...       ...       ...   \n",
      "27995       0  ...         0         0         0         0         0   \n",
      "27996       0  ...         0         0         0         0         0   \n",
      "27997       0  ...         0         0         0         0         0   \n",
      "27998       0  ...         0         0         0         0         0   \n",
      "27999       0  ...         0         0         0         0         0   \n",
      "\n",
      "       pixel779  pixel780  pixel781  pixel782  pixel783  \n",
      "0             0         0         0         0         0  \n",
      "1             0         0         0         0         0  \n",
      "2             0         0         0         0         0  \n",
      "3             0         0         0         0         0  \n",
      "4             0         0         0         0         0  \n",
      "...         ...       ...       ...       ...       ...  \n",
      "27995         0         0         0         0         0  \n",
      "27996         0         0         0         0         0  \n",
      "27997         0         0         0         0         0  \n",
      "27998         0         0         0         0         0  \n",
      "27999         0         0         0         0         0  \n",
      "\n",
      "[28000 rows x 784 columns]\n"
     ]
    }
   ],
   "source": [
    "print(test)"
   ]
  },
  {
   "cell_type": "code",
   "execution_count": 4,
   "metadata": {},
   "outputs": [
    {
     "name": "stdout",
     "output_type": "stream",
     "text": [
      "0        1\n",
      "1        0\n",
      "2        1\n",
      "3        4\n",
      "4        0\n",
      "        ..\n",
      "41995    0\n",
      "41996    1\n",
      "41997    7\n",
      "41998    6\n",
      "41999    9\n",
      "Name: label, Length: 42000, dtype: int64\n"
     ]
    }
   ],
   "source": [
    "y = train['label']\n",
    "print(y)\n",
    "train = train.drop('label',  axis =1)\n",
    "#print(train)"
   ]
  },
  {
   "cell_type": "code",
   "execution_count": null,
   "metadata": {},
   "outputs": [],
   "source": []
  },
  {
   "cell_type": "code",
   "execution_count": 5,
   "metadata": {},
   "outputs": [
    {
     "name": "stdout",
     "output_type": "stream",
     "text": [
      "32928000\n",
      "21952000\n"
     ]
    }
   ],
   "source": [
    "train=train/225.0#pixels normalizing \n",
    "#print(type(train))#df\n",
    "test = test/225.0\n",
    "train = np.array(train)\n",
    "print(train.size)#array\n",
    "test = np.array(test)\n",
    "print(test.size)\n",
    "train = train.reshape(train.shape[0], 28, 28,1)#reshaping \n",
    "test = test.reshape(test.shape[0], 28, 28,1)"
   ]
  },
  {
   "cell_type": "code",
   "execution_count": 6,
   "metadata": {},
   "outputs": [],
   "source": [
    "from sklearn.model_selection import train_test_split\n",
    "X_train, X_val, Y_train, Y_val = train_test_split(train, y, test_size=0.2)\n"
   ]
  },
  {
   "cell_type": "code",
   "execution_count": 7,
   "metadata": {},
   "outputs": [
    {
     "name": "stdout",
     "output_type": "stream",
     "text": [
      "[[0. 0. 0. 1. 0. 0. 0. 0. 0. 0.]\n",
      " [0. 0. 0. 0. 0. 0. 1. 0. 0. 0.]\n",
      " [0. 0. 0. 0. 0. 1. 0. 0. 0. 0.]\n",
      " [1. 0. 0. 0. 0. 0. 0. 0. 0. 0.]\n",
      " [0. 0. 0. 0. 0. 0. 0. 0. 0. 1.]\n",
      " [0. 0. 0. 0. 0. 0. 0. 0. 1. 0.]\n",
      " [0. 0. 0. 0. 0. 1. 0. 0. 0. 0.]\n",
      " [0. 0. 0. 0. 0. 0. 0. 1. 0. 0.]\n",
      " [0. 0. 0. 0. 0. 0. 0. 1. 0. 0.]]\n"
     ]
    }
   ],
   "source": [
    "#Converting the train and validation labels to one-hot encodings\n",
    "Y_train = tf.keras.utils.to_categorical(Y_train, num_classes=10)\n",
    "Y_val = tf.keras.utils.to_categorical(Y_val, num_classes=10)\n",
    "print(Y_train[1:10])"
   ]
  },
  {
   "cell_type": "code",
   "execution_count": 8,
   "metadata": {},
   "outputs": [
    {
     "name": "stdout",
     "output_type": "stream",
     "text": [
      "Model: \"sequential\"\n",
      "_________________________________________________________________\n",
      "Layer (type)                 Output Shape              Param #   \n",
      "=================================================================\n",
      "conv2d (Conv2D)              (None, 24, 24, 64)        1664      \n",
      "_________________________________________________________________\n",
      "max_pooling2d (MaxPooling2D) (None, 12, 12, 64)        0         \n",
      "_________________________________________________________________\n",
      "dropout (Dropout)            (None, 12, 12, 64)        0         \n",
      "_________________________________________________________________\n",
      "conv2d_1 (Conv2D)            (None, 8, 8, 128)         204928    \n",
      "_________________________________________________________________\n",
      "max_pooling2d_1 (MaxPooling2 (None, 4, 4, 128)         0         \n",
      "_________________________________________________________________\n",
      "dropout_1 (Dropout)          (None, 4, 4, 128)         0         \n",
      "_________________________________________________________________\n",
      "flatten (Flatten)            (None, 2048)              0         \n",
      "_________________________________________________________________\n",
      "dense (Dense)                (None, 128)               262272    \n",
      "_________________________________________________________________\n",
      "batch_normalization (BatchNo (None, 128)               512       \n",
      "_________________________________________________________________\n",
      "dense_1 (Dense)              (None, 10)                1290      \n",
      "=================================================================\n",
      "Total params: 470,666\n",
      "Trainable params: 470,410\n",
      "Non-trainable params: 256\n",
      "_________________________________________________________________\n"
     ]
    }
   ],
   "source": [
    "#Preparing a CNN model architecture\n",
    "model1 = tf.keras.models.Sequential([\n",
    "            tf.keras.layers.Conv2D(64, (5,5), activation='relu', kernel_initializer='he_uniform',input_shape=(28, 28, 1)),\n",
    "            tf.keras.layers.MaxPooling2D(2, 2),\n",
    "            tf.keras.layers.Dropout(0.2),\n",
    "            tf.keras.layers.Conv2D(128, (5,5), activation='relu'),\n",
    "            tf.keras.layers.MaxPooling2D(2, 2),\n",
    "            \n",
    "            \n",
    "            tf.keras.layers.Dropout(0.25),\n",
    "            tf.keras.layers.Flatten(),\n",
    "            tf.keras.layers.Dense(128, activation='relu'),\n",
    "            tf.keras.layers.BatchNormalization(),\n",
    "            tf.keras.layers.Dense(10, activation='softmax')\n",
    "    ])\n",
    "model1.summary()"
   ]
  },
  {
   "cell_type": "code",
   "execution_count": 10,
   "metadata": {},
   "outputs": [],
   "source": [
    "# from keras.utils import plot_model\n",
    "# plot_model(model, to_file='model.png', show_shapes=True, show_layer_names=True)\n",
    "# from IPython.display import Image\n",
    "# Image(\"model.png\")"
   ]
  },
  {
   "cell_type": "code",
   "execution_count": 12,
   "metadata": {},
   "outputs": [],
   "source": [
    "#Compiling the model OPTIMIZER IS SGD \n",
    "model1.compile(optimizer= tf.keras.optimizers.SGD(lr=0.1, momentum=0.9), loss='categorical_crossentropy', metrics=['accuracy'])"
   ]
  },
  {
   "cell_type": "code",
   "execution_count": 13,
   "metadata": {},
   "outputs": [],
   "source": [
    "#Data augmentation to prevent overfitting\n",
    "datagen = tf.keras.preprocessing.image.ImageDataGenerator(\n",
    "        rotation_range=30, \n",
    "        zoom_range = 0.2, \n",
    "        width_shift_range=0.1,  \n",
    "        height_shift_range=0.1,)  "
   ]
  },
  {
   "cell_type": "code",
   "execution_count": 14,
   "metadata": {},
   "outputs": [
    {
     "name": "stdout",
     "output_type": "stream",
     "text": [
      "WARNING:tensorflow:From <ipython-input-14-7a081535a181>:1: Model.fit_generator (from tensorflow.python.keras.engine.training) is deprecated and will be removed in a future version.\n",
      "Instructions for updating:\n",
      "Please use Model.fit, which supports generators.\n",
      "Epoch 1/15\n"
     ]
    },
    {
     "name": "stderr",
     "output_type": "stream",
     "text": [
      "C:\\Users\\madhu\\Anaconda3\\lib\\site-packages\\tensorflow\\python\\data\\ops\\dataset_ops.py:3350: UserWarning: Even though the tf.config.experimental_run_functions_eagerly option is set, this option does not apply to tf.data functions. tf.data functions are still traced and executed as graphs.\n",
      "  \"Even though the tf.config.experimental_run_functions_eagerly \"\n"
     ]
    },
    {
     "name": "stdout",
     "output_type": "stream",
     "text": [
      "525/525 [==============================] - 55s 105ms/step - loss: 0.5820 - accuracy: 0.8093 - val_loss: 0.0948 - val_accuracy: 0.9743\n",
      "Epoch 2/15\n",
      "525/525 [==============================] - 69s 132ms/step - loss: 0.1893 - accuracy: 0.9413 - val_loss: 0.1132 - val_accuracy: 0.9690\n",
      "Epoch 3/15\n",
      "525/525 [==============================] - 63s 119ms/step - loss: 0.1420 - accuracy: 0.9548 - val_loss: 0.0622 - val_accuracy: 0.9840\n",
      "Epoch 4/15\n",
      "525/525 [==============================] - 64s 122ms/step - loss: 0.1157 - accuracy: 0.9632 - val_loss: 0.0628 - val_accuracy: 0.9830\n",
      "Epoch 5/15\n",
      "525/525 [==============================] - 61s 116ms/step - loss: 0.1044 - accuracy: 0.9680 - val_loss: 0.0624 - val_accuracy: 0.9845\n",
      "Epoch 6/15\n",
      "525/525 [==============================] - 63s 121ms/step - loss: 0.1002 - accuracy: 0.9695 - val_loss: 0.0461 - val_accuracy: 0.9875\n",
      "Epoch 7/15\n",
      "525/525 [==============================] - 61s 116ms/step - loss: 0.0898 - accuracy: 0.9715 - val_loss: 0.0655 - val_accuracy: 0.9824\n",
      "Epoch 8/15\n",
      "525/525 [==============================] - 60s 115ms/step - loss: 0.0896 - accuracy: 0.9726 - val_loss: 0.0381 - val_accuracy: 0.9892\n",
      "Epoch 9/15\n",
      "525/525 [==============================] - 58s 110ms/step - loss: 0.0823 - accuracy: 0.9756 - val_loss: 0.0527 - val_accuracy: 0.9861\n",
      "Epoch 10/15\n",
      "525/525 [==============================] - 59s 113ms/step - loss: 0.0784 - accuracy: 0.9762 - val_loss: 0.0398 - val_accuracy: 0.9885\n",
      "Epoch 11/15\n",
      "525/525 [==============================] - 60s 113ms/step - loss: 0.0758 - accuracy: 0.9765 - val_loss: 0.0412 - val_accuracy: 0.9877\n",
      "Epoch 12/15\n",
      "525/525 [==============================] - 66s 126ms/step - loss: 0.0720 - accuracy: 0.9773 - val_loss: 0.0379 - val_accuracy: 0.9893\n",
      "Epoch 13/15\n",
      "525/525 [==============================] - 61s 116ms/step - loss: 0.0680 - accuracy: 0.9788 - val_loss: 0.0318 - val_accuracy: 0.9907\n",
      "Epoch 14/15\n",
      "525/525 [==============================] - 58s 110ms/step - loss: 0.0641 - accuracy: 0.9804 - val_loss: 0.0487 - val_accuracy: 0.9873\n",
      "Epoch 15/15\n",
      "525/525 [==============================] - 59s 112ms/step - loss: 0.0628 - accuracy: 0.9805 - val_loss: 0.0328 - val_accuracy: 0.9913\n"
     ]
    }
   ],
   "source": [
    "history1 = model1.fit_generator(datagen.flow(X_train, Y_train,batch_size=64),validation_data=(X_val, Y_val),epochs=15,steps_per_epoch=X_train.shape[0] // 64)"
   ]
  },
  {
   "cell_type": "code",
   "execution_count": 21,
   "metadata": {},
   "outputs": [
    {
     "data": {
      "image/png": "[encoded data removed]",
      "text/plain": [
       "<Figure size 432x288 with 1 Axes>"
      ]
     },
     "metadata": {
      "needs_background": "light"
     },
     "output_type": "display_data"
    }
   ],
   "source": [
    "#Comparing training and testing accuraries for the model in which number of nuerons increases from  (64,128) \n",
    "# plt.plot(history1.history['loss'], color='r')\n",
    "# plt.plot(history1.history['val_loss'], color='g')\n",
    "# plt.legend(('loss', 'val_loss'), loc='upper right', shadow=True)\n",
    "# plt.ylabel('Loss')\n",
    "# plt.xlabel('Epoch')\n",
    "# plt.show()\n",
    "plt.plot(history1.history['accuracy'], color='r')\n",
    "plt.plot(history1.history['val_accuracy'], color='g')\n",
    "#Plt.title('Accuracy vs Epochs for Optimizer:SGD, number of nuerons:(64,128)')\n",
    "plt.legend(('train_accuracy', 'test_accuracy'), loc='best', shadow=True)\n",
    "plt.ylabel('Accuracy')\n",
    "plt.xlabel('Epoch')\n",
    "plt.show()"
   ]
  },
  {
   "cell_type": "code",
   "execution_count": 22,
   "metadata": {},
   "outputs": [
    {
     "name": "stderr",
     "output_type": "stream",
     "text": [
      "C:\\Users\\madhu\\Anaconda3\\lib\\site-packages\\tensorflow\\python\\data\\ops\\dataset_ops.py:3350: UserWarning: Even though the tf.config.experimental_run_functions_eagerly option is set, this option does not apply to tf.data functions. tf.data functions are still traced and executed as graphs.\n",
      "  \"Even though the tf.config.experimental_run_functions_eagerly \"\n"
     ]
    },
    {
     "name": "stdout",
     "output_type": "stream",
     "text": [
      "[[806   0   0   0   1   0   2   0   1   0]\n",
      " [  0 923   0   0   1   0   0   6   0   0]\n",
      " [  0   0 885   0   0   0   0   2   0   0]\n",
      " [  0   0   1 859   0   2   0   0   2   0]\n",
      " [  0   0   0   0 789   0   1   3   0   1]\n",
      " [  0   0   0   1   0 739   2   0   2   0]\n",
      " [  0   0   0   1   2   2 811   0   2   0]\n",
      " [  0   1   3   0   2   0   0 847   0   0]\n",
      " [  0   1   0   0   1   1   1   2 827   1]\n",
      " [  1   1   0   0   7   7   0   6   3 841]]\n"
     ]
    }
   ],
   "source": [
    "#Plotting Confusion Matrix\n",
    "y_pred1 = model1.predict(X_val)\n",
    "y_pred1 = np.argmax(y_pred1, axis=1)\n",
    "y_true = np.argmax(Y_val, axis=1)\n",
    "from sklearn.metrics import confusion_matrix\n",
    "cm = confusion_matrix(y_true, y_pred1)\n",
    "print(cm)"
   ]
  },
  {
   "cell_type": "markdown",
   "metadata": {},
   "source": [
    "(128,256)"
   ]
  },
  {
   "cell_type": "code",
   "execution_count": 33,
   "metadata": {},
   "outputs": [
    {
     "name": "stdout",
     "output_type": "stream",
     "text": [
      "Model: \"sequential_2\"\n",
      "_________________________________________________________________\n",
      "Layer (type)                 Output Shape              Param #   \n",
      "=================================================================\n",
      "conv2d_4 (Conv2D)            (None, 24, 24, 128)       3328      \n",
      "_________________________________________________________________\n",
      "max_pooling2d_4 (MaxPooling2 (None, 12, 12, 128)       0         \n",
      "_________________________________________________________________\n",
      "dropout_4 (Dropout)          (None, 12, 12, 128)       0         \n",
      "_________________________________________________________________\n",
      "conv2d_5 (Conv2D)            (None, 8, 8, 256)         819456    \n",
      "_________________________________________________________________\n",
      "max_pooling2d_5 (MaxPooling2 (None, 4, 4, 256)         0         \n",
      "_________________________________________________________________\n",
      "dropout_5 (Dropout)          (None, 4, 4, 256)         0         \n",
      "_________________________________________________________________\n",
      "flatten_2 (Flatten)          (None, 4096)              0         \n",
      "_________________________________________________________________\n",
      "dense_4 (Dense)              (None, 256)               1048832   \n",
      "_________________________________________________________________\n",
      "batch_normalization_2 (Batch (None, 256)               1024      \n",
      "_________________________________________________________________\n",
      "dense_5 (Dense)              (None, 10)                2570      \n",
      "=================================================================\n",
      "Total params: 1,875,210\n",
      "Trainable params: 1,874,698\n",
      "Non-trainable params: 512\n",
      "_________________________________________________________________\n"
     ]
    }
   ],
   "source": [
    "#Preparing a CNN model architecture\n",
    "model2 = tf.keras.models.Sequential([\n",
    "            tf.keras.layers.Conv2D(128, (5,5), activation='relu', kernel_initializer='he_uniform',input_shape=(28, 28, 1)),\n",
    "            tf.keras.layers.MaxPooling2D(2, 2),\n",
    "            tf.keras.layers.Dropout(0.2),\n",
    "            tf.keras.layers.Conv2D(256, (5,5), activation='relu'),\n",
    "            tf.keras.layers.MaxPooling2D(2, 2),\n",
    "            \n",
    "            \n",
    "            tf.keras.layers.Dropout(0.25),\n",
    "            tf.keras.layers.Flatten(),\n",
    "            tf.keras.layers.Dense(256, activation='relu'),\n",
    "            tf.keras.layers.BatchNormalization(),\n",
    "            tf.keras.layers.Dense(10, activation='softmax')\n",
    "    ])\n",
    "model2.summary()"
   ]
  },
  {
   "cell_type": "code",
   "execution_count": 34,
   "metadata": {},
   "outputs": [],
   "source": [
    "#Compiling the model OPTIMIZER IS SGD \n",
    "model2.compile(optimizer= tf.keras.optimizers.SGD(lr=0.1, momentum=0.9), loss='categorical_crossentropy', metrics=['accuracy'])"
   ]
  },
  {
   "cell_type": "code",
   "execution_count": 35,
   "metadata": {},
   "outputs": [],
   "source": [
    "#Data augmentation to prevent overfitting\n",
    "datagen = tf.keras.preprocessing.image.ImageDataGenerator(\n",
    "        rotation_range=30, \n",
    "        zoom_range = 0.2, \n",
    "        width_shift_range=0.1,  \n",
    "        height_shift_range=0.1,)  "
   ]
  },
  {
   "cell_type": "code",
   "execution_count": 40,
   "metadata": {},
   "outputs": [
    {
     "name": "stdout",
     "output_type": "stream",
     "text": [
      "Epoch 1/15\n",
      "525/525 [==============================] - 137s 262ms/step - loss: 0.6558 - accuracy: 0.7910 - val_loss: 0.1235 - val_accuracy: 0.9664\n",
      "Epoch 2/15\n",
      "525/525 [==============================] - 147s 281ms/step - loss: 0.1832 - accuracy: 0.9429 - val_loss: 0.0857 - val_accuracy: 0.9779\n",
      "Epoch 3/15\n",
      "525/525 [==============================] - 145s 276ms/step - loss: 0.1331 - accuracy: 0.9579 - val_loss: 0.0420 - val_accuracy: 0.9877\n",
      "Epoch 4/15\n",
      "525/525 [==============================] - 146s 279ms/step - loss: 0.1111 - accuracy: 0.9655 - val_loss: 0.0504 - val_accuracy: 0.9864\n",
      "Epoch 5/15\n",
      "525/525 [==============================] - 146s 279ms/step - loss: 0.0979 - accuracy: 0.9696 - val_loss: 0.0635 - val_accuracy: 0.9824\n",
      "Epoch 6/15\n",
      "525/525 [==============================] - 146s 278ms/step - loss: 0.0902 - accuracy: 0.9725 - val_loss: 0.0744 - val_accuracy: 0.9806\n",
      "Epoch 7/15\n",
      "525/525 [==============================] - 145s 277ms/step - loss: 0.0820 - accuracy: 0.9747 - val_loss: 0.0585 - val_accuracy: 0.9848\n",
      "Epoch 8/15\n",
      "525/525 [==============================] - 150s 286ms/step - loss: 0.0737 - accuracy: 0.9768 - val_loss: 0.0328 - val_accuracy: 0.9907\n",
      "Epoch 9/15\n",
      "525/525 [==============================] - 147s 279ms/step - loss: 0.0737 - accuracy: 0.9770 - val_loss: 0.0405 - val_accuracy: 0.9894\n",
      "Epoch 10/15\n",
      "525/525 [==============================] - 146s 278ms/step - loss: 0.0700 - accuracy: 0.9779 - val_loss: 0.0327 - val_accuracy: 0.9911\n",
      "Epoch 11/15\n",
      "525/525 [==============================] - 146s 278ms/step - loss: 0.0660 - accuracy: 0.9802 - val_loss: 0.0324 - val_accuracy: 0.9905\n",
      "Epoch 12/15\n",
      "525/525 [==============================] - 150s 286ms/step - loss: 0.0601 - accuracy: 0.9815 - val_loss: 0.0891 - val_accuracy: 0.9711\n",
      "Epoch 13/15\n",
      "525/525 [==============================] - 148s 281ms/step - loss: 0.0646 - accuracy: 0.9799 - val_loss: 0.0378 - val_accuracy: 0.9896\n",
      "Epoch 14/15\n",
      "525/525 [==============================] - 149s 284ms/step - loss: 0.0572 - accuracy: 0.9815 - val_loss: 0.0345 - val_accuracy: 0.9896\n",
      "Epoch 15/15\n",
      "525/525 [==============================] - 147s 280ms/step - loss: 0.0573 - accuracy: 0.9824 - val_loss: 0.0433 - val_accuracy: 0.9881\n"
     ]
    }
   ],
   "source": [
    "history2 = model2.fit_generator(datagen.flow(X_train, Y_train,batch_size=64),validation_data=(X_val, Y_val),epochs=15,steps_per_epoch=X_train.shape[0] // 64)"
   ]
  },
  {
   "cell_type": "code",
   "execution_count": 41,
   "metadata": {},
   "outputs": [
    {
     "data": {
      "image/png": "[encoded data removed]",
      "text/plain": [
       "<Figure size 432x288 with 1 Axes>"
      ]
     },
     "metadata": {
      "needs_background": "light"
     },
     "output_type": "display_data"
    }
   ],
   "source": [
    "#Comparing training and testing accuraries for the model in which number of nuerons increases from  (64,128) \n",
    "# plt.plot(history1.history['loss'], color='r')\n",
    "# plt.plot(history1.history['val_loss'], color='g')\n",
    "# plt.legend(('loss', 'val_loss'), loc='upper right', shadow=True)\n",
    "# plt.ylabel('Loss')\n",
    "# plt.xlabel('Epoch')\n",
    "# plt.show()\n",
    "plt.plot(history2.history['accuracy'], color='r')\n",
    "plt.plot(history2.history['val_accuracy'], color='g')\n",
    "plt.legend(('train_accuracy', 'test_accuracy'), loc='best', shadow=True)\n",
    "#Plt.title('Accuracy vs Epochs for Optimizer:SGD, number of nuerons:(128,256)')\n",
    "plt.ylabel('Accuracy')\n",
    "plt.xlabel('Epoch')\n",
    "plt.show()"
   ]
  },
  {
   "cell_type": "code",
   "execution_count": 42,
   "metadata": {},
   "outputs": [
    {
     "name": "stderr",
     "output_type": "stream",
     "text": [
      "C:\\Users\\madhu\\Anaconda3\\lib\\site-packages\\tensorflow\\python\\data\\ops\\dataset_ops.py:3350: UserWarning: Even though the tf.config.experimental_run_functions_eagerly option is set, this option does not apply to tf.data functions. tf.data functions are still traced and executed as graphs.\n",
      "  \"Even though the tf.config.experimental_run_functions_eagerly \"\n"
     ]
    },
    {
     "name": "stdout",
     "output_type": "stream",
     "text": [
      "[[803   0   2   0   0   0   2   0   3   0]\n",
      " [  0 910   7   0   3   0   0   6   4   0]\n",
      " [  0   0 883   0   0   0   0   4   0   0]\n",
      " [  0   0   1 857   0   2   0   0   4   0]\n",
      " [  0   0   0   0 792   1   0   1   0   0]\n",
      " [  0   0   0   1   0 735   3   0   5   0]\n",
      " [  0   0   0   0   2   0 813   0   3   0]\n",
      " [  0   1  12   1   1   0   0 837   1   0]\n",
      " [  0   0   1   0   1   0   1   0 831   0]\n",
      " [  0   2   4   0   8   2   0   2   9 839]]\n"
     ]
    }
   ],
   "source": [
    "#Plotting Confusion Matrix\n",
    "y_pred2 = model2.predict(X_val)\n",
    "y_pred2 = np.argmax(y_pred2, axis=1)\n",
    "y_true = np.argmax(Y_val, axis=1)\n",
    "from sklearn.metrics import confusion_matrix\n",
    "cm = confusion_matrix(y_true, y_pred2)\n",
    "print(cm)"
   ]
  },
  {
   "cell_type": "code",
   "execution_count": null,
   "metadata": {},
   "outputs": [],
   "source": []
  },
  {
   "cell_type": "code",
   "execution_count": null,
   "metadata": {},
   "outputs": [],
   "source": []
  },
  {
   "cell_type": "code",
   "execution_count": null,
   "metadata": {},
   "outputs": [],
   "source": [
    " "
   ]
  },
  {
   "cell_type": "code",
   "execution_count": 144,
   "metadata": {},
   "outputs": [],
   "source": []
  },
  {
   "cell_type": "code",
   "execution_count": 145,
   "metadata": {},
   "outputs": [],
   "source": []
  },
  {
   "cell_type": "code",
   "execution_count": null,
   "metadata": {},
   "outputs": [],
   "source": []
  },
  {
   "cell_type": "code",
   "execution_count": null,
   "metadata": {},
   "outputs": [],
   "source": []
  },
  {
   "cell_type": "code",
   "execution_count": null,
   "metadata": {},
   "outputs": [],
   "source": []
  }
 ],
 "metadata": {
  "kernelspec": {
   "display_name": "Python 3",
   "language": "python",
   "name": "python3"
  },
  "language_info": {
   "codemirror_mode": {
    "name": "ipython",
    "version": 3
   },
   "file_extension": ".py",
   "mimetype": "text/x-python",
   "name": "python",
   "nbconvert_exporter": "python",
   "pygments_lexer": "ipython3",
   "version": "3.7.6"
  }
 },
 "nbformat": 4,
 "nbformat_minor": 4
}
